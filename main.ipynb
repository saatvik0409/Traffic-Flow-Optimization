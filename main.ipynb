{
 "cells": [
  {
   "cell_type": "code",
   "execution_count": 17,
   "metadata": {},
   "outputs": [],
   "source": [
    "nodes = []\n"
   ]
  },
  {
   "cell_type": "code",
   "execution_count": 18,
   "metadata": {},
   "outputs": [],
   "source": [
    "class Graph:\n",
    "    def __init__(self):\n",
    "        self.in_edges = []\n",
    "        self.out_edges = []\n",
    "        self.light_combinations = {}\n",
    "        self.incoming_congestion = {}\n",
    "\n",
    "    def add_inEdge(self, index):\n",
    "        self.in_edges.append(index)\n",
    "    \n",
    "    def add_outEdge(self, index):\n",
    "        self.out_edges.append(index)\n",
    "    \n",
    "    def addEdge(self, index1, index2, light_combination):\n",
    "        self.in_edges.append(index1)\n",
    "        self.out_edges.append(index1)\n",
    "        nodes[index1].in_edges.append(index2)\n",
    "        nodes[index1].out_edges.append(index2)\n",
    "        self.light_combinations[(index1, index2)] = light_combination\n",
    "        self.light_combinations[(index2, index1)] = light_combination  # Assuming bidirectional roads have same light combination\n",
    "\n",
    "    def update_incoming_congestion(self, incoming_edge, congestion_level):\n",
    "        self.incoming_congestion[incoming_edge] = congestion_level"
   ]
  },
  {
   "cell_type": "code",
   "execution_count": 19,
   "metadata": {},
   "outputs": [],
   "source": [
    "for i in range(0,5):\n",
    "    g = Graph()\n",
    "    nodes.append(g)"
   ]
  },
  {
   "cell_type": "code",
   "execution_count": 20,
   "metadata": {},
   "outputs": [],
   "source": [
    "#example case with 5 nodes\n",
    "\n",
    "nodes[0].addEdge(1, 0, {\"1-4\": \"Green\", \"4-1\": \"Green\", \"1-5\": \"Red\"})\n",
    "nodes[0].update_incoming_congestion(1, 20)  # Example congestion level\n",
    "nodes[1].addEdge(2, 1, {\"2-1\": \"Green\", \"1-2\": \"Green\", \"2-4\": \"Red\"})\n",
    "nodes[1].update_incoming_congestion(0, 15)  # Example congestion level\n",
    "nodes[2].addEdge(3, 2, {\"3-2\": \"Green\", \"2-3\": \"Green\", \"3-5\": \"Red\"})\n",
    "nodes[2].update_incoming_congestion(1, 25)  # Example congestion level\n",
    "nodes[3].addEdge(4, 3, {\"4-1\": \"Green\", \"1-4\": \"Green\", \"4-3\": \"Red\"})\n",
    "nodes[3].update_incoming_congestion(2, 30)  # Example congestion level\n",
    "nodes[4].addEdge(0, 4, {\"5-1\": \"Red\", \"1-5\": \"Red\", \"5-3\": \"Green\"})\n",
    "nodes[4].update_incoming_congestion(3, 18)\n"
   ]
  },
  {
   "cell_type": "code",
   "execution_count": 21,
   "metadata": {},
   "outputs": [
    {
     "name": "stdout",
     "output_type": "stream",
     "text": [
      "1 2 \n",
      "0 3 4 \n",
      "0 3 5 \n",
      "1 2 4 6 \n",
      "1 3 7 \n",
      "2 6 \n",
      "3 5 7 \n",
      "4 6 \n"
     ]
    }
   ],
   "source": [
    "for node in nodes:\n",
    "    for neighbour in node.in_edges:\n",
    "        print(neighbour,end = \" \")\n",
    "    print()"
   ]
  },
  {
   "cell_type": "code",
   "execution_count": null,
   "metadata": {},
   "outputs": [],
   "source": [
    "import numpy as np\n",
    "from sklearn.preprocessing import LabelEncoder\n",
    "from sklearn.model_selection import train_test_split\n",
    "from tensorflow.keras.models import Sequential\n",
    "from tensorflow.keras.layers import Dense, Dropout"
   ]
  },
  {
   "cell_type": "code",
   "execution_count": null,
   "metadata": {},
   "outputs": [],
   "source": [
    "# Prepare input data\n",
    "input_features = []\n",
    "for node in nodes:\n",
    "    features = [node.incoming_congestion[edge] for edge in node.in_edges]\n",
    "    input_features.append(features)\n"
   ]
  },
  {
   "cell_type": "code",
   "execution_count": null,
   "metadata": {},
   "outputs": [],
   "source": [
    "# Prepare output data (target traffic light combinations)\n",
    "output_labels = []\n",
    "for node in nodes:\n",
    "    labels = [node.light_combinations[edge] for edge in node.out_edges]\n",
    "    output_labels.append(labels)\n"
   ]
  },
  {
   "cell_type": "code",
   "execution_count": null,
   "metadata": {},
   "outputs": [],
   "source": [
    "# Encode output labels\n",
    "label_encoder = LabelEncoder()\n",
    "encoded_labels = [label_encoder.fit_transform(labels) for labels in output_labels]\n"
   ]
  },
  {
   "cell_type": "code",
   "execution_count": null,
   "metadata": {},
   "outputs": [],
   "source": [
    "X_train, X_test, y_train, y_test = train_test_split(input_features, encoded_labels, test_size=0.2, random_state=42)"
   ]
  },
  {
   "cell_type": "code",
   "execution_count": null,
   "metadata": {},
   "outputs": [],
   "source": [
    "# Build neural network model\n",
    "model = Sequential([\n",
    "    Dense(64, activation='relu', input_shape=(len(X_train[0]),)),\n",
    "    Dropout(0.2),\n",
    "    Dense(64, activation='relu'),\n",
    "    Dense(len(label_encoder.classes_), activation='softmax')\n",
    "])\n"
   ]
  },
  {
   "cell_type": "code",
   "execution_count": null,
   "metadata": {},
   "outputs": [],
   "source": [
    "model.compile(optimizer='adam', loss='sparse_categorical_crossentropy', metrics=['accuracy'])"
   ]
  },
  {
   "cell_type": "code",
   "execution_count": null,
   "metadata": {},
   "outputs": [],
   "source": [
    "model.fit(np.array(X_train), np.array(y_train), epochs=50, batch_size=32, validation_data=(np.array(X_test), np.array(y_test)))"
   ]
  },
  {
   "cell_type": "code",
   "execution_count": null,
   "metadata": {},
   "outputs": [],
   "source": [
    "new_scenario = [[25, 20, 30, 15], [20, 25, 18], [30, 15, 25], [18, 30, 20], [15, 20, 25]]\n",
    "predicted_labels = model.predict(np.array(new_scenario))\n",
    "predicted_combinations = [label_encoder.classes_[np.argmax(labels)] for labels in predicted_labels]\n",
    "print(\"Predicted Traffic Light Combinations:\")\n",
    "for i, combination in enumerate(predicted_combinations):\n",
    "    print(f\"Node {i+1}: {combination}\")"
   ]
  },
  {
   "cell_type": "code",
   "execution_count": null,
   "metadata": {},
   "outputs": [],
   "source": []
  }
 ],
 "metadata": {
  "kernelspec": {
   "display_name": "Python 3",
   "language": "python",
   "name": "python3"
  },
  "language_info": {
   "codemirror_mode": {
    "name": "ipython",
    "version": 3
   },
   "file_extension": ".py",
   "mimetype": "text/x-python",
   "name": "python",
   "nbconvert_exporter": "python",
   "pygments_lexer": "ipython3",
   "version": "3.11.0"
  }
 },
 "nbformat": 4,
 "nbformat_minor": 2
}
