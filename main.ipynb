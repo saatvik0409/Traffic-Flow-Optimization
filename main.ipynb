{
 "cells": [
  {
   "cell_type": "code",
   "execution_count": 17,
   "metadata": {},
   "outputs": [],
   "source": [
    "nodes = []\n"
   ]
  },
  {
   "cell_type": "code",
   "execution_count": 18,
   "metadata": {},
   "outputs": [],
   "source": [
    "class Graph:\n",
    "    def __init__(self):\n",
    "        self.in_edges = []\n",
    "        self.out_edges = []\n",
    "        self.congestion = 0\n",
    "    \n",
    "    def add_inEdge(self,index):\n",
    "        self.in_edges.append(index)\n",
    "    \n",
    "    def add_outEdge(self,index):\n",
    "        self.out_edges.append(index)\n",
    "    \n",
    "    def addEdge(self,index1,index2):\n",
    "        self.in_edges.append(index1)\n",
    "        self.out_edges.append(index1)\n",
    "        nodes[index1].in_edges.append(index2)\n",
    "        nodes[index1].out_edges.append(index2)"
   ]
  },
  {
   "cell_type": "code",
   "execution_count": 19,
   "metadata": {},
   "outputs": [],
   "source": [
    "for i in range(0,8):\n",
    "    g = Graph()\n",
    "    nodes.append(g)"
   ]
  },
  {
   "cell_type": "code",
   "execution_count": 20,
   "metadata": {},
   "outputs": [],
   "source": [
    "nodes[0].addEdge(1,0)\n",
    "nodes[0].addEdge(2,0)\n",
    "nodes[1].addEdge(3,1)\n",
    "nodes[1].addEdge(4,1)\n",
    "nodes[2].addEdge(3,2)\n",
    "nodes[2].addEdge(5,2)\n",
    "nodes[3].addEdge(4,3)\n",
    "nodes[3].addEdge(6,3)\n",
    "nodes[4].addEdge(7,4)\n",
    "nodes[5].addEdge(6,5)\n",
    "nodes[6].addEdge(7,6)\n",
    "\n"
   ]
  },
  {
   "cell_type": "code",
   "execution_count": 21,
   "metadata": {},
   "outputs": [
    {
     "name": "stdout",
     "output_type": "stream",
     "text": [
      "1 2 \n",
      "0 3 4 \n",
      "0 3 5 \n",
      "1 2 4 6 \n",
      "1 3 7 \n",
      "2 6 \n",
      "3 5 7 \n",
      "4 6 \n"
     ]
    }
   ],
   "source": [
    "for node in nodes:\n",
    "    for neighbour in node.in_edges:\n",
    "        print(neighbour,end = \" \")\n",
    "    print()"
   ]
  },
  {
   "cell_type": "code",
   "execution_count": null,
   "metadata": {},
   "outputs": [],
   "source": []
  }
 ],
 "metadata": {
  "kernelspec": {
   "display_name": "Python 3",
   "language": "python",
   "name": "python3"
  },
  "language_info": {
   "codemirror_mode": {
    "name": "ipython",
    "version": 3
   },
   "file_extension": ".py",
   "mimetype": "text/x-python",
   "name": "python",
   "nbconvert_exporter": "python",
   "pygments_lexer": "ipython3",
   "version": "3.11.0"
  }
 },
 "nbformat": 4,
 "nbformat_minor": 2
}
